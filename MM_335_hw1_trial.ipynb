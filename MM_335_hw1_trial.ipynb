{
  "nbformat": 4,
  "nbformat_minor": 0,
  "metadata": {
    "colab": {
      "private_outputs": true,
      "provenance": [],
      "include_colab_link": true
    },
    "kernelspec": {
      "name": "python3",
      "display_name": "Python 3"
    },
    "language_info": {
      "name": "python"
    }
  },
  "cells": [
    {
      "cell_type": "markdown",
      "metadata": {
        "id": "view-in-github",
        "colab_type": "text"
      },
      "source": [
        "<a href=\"https://colab.research.google.com/github/m-markowska/Shupamem-tones/blob/master/MM_335_hw1_trial.ipynb\" target=\"_parent\"><img src=\"https://colab.research.google.com/assets/colab-badge.svg\" alt=\"Open In Colab\"/></a>"
      ]
    },
    {
      "cell_type": "markdown",
      "source": [
        "# Assignment 1 Trial Run - A pronunciation corpus\n",
        "\n",
        "## Background: Assignment format for this course\n",
        "\n",
        "This is the **trial run** of the first assignment for LIN 335 *Computational Linguistics*.\n",
        "With a trial run, you have one (1) week to try to solve the assignment, with the expectation that the average student won't fully succeed.\n",
        "You should try to do the trial run entirely on your own, with no assistance from anybody else.\n",
        "The trial run won't be graded on correctness, just on whether you gave it an honest try.\n",
        "If you did give it a try, you get 1 point.\n",
        "\n",
        "The week after that, you get one more attempt to solve the assignment.\n",
        "This is called the **assisted run**.\n",
        "For the final run, you will usually get some additional hints from me, and you are also allowed to use any other tools or resources (ChatGPT, Github Copilot, discussing it with friends and class mates).\n",
        "With all that help, you should be able to complete the assignment, which is again worth 1 point.\n",
        "\n",
        "As part of the assisted run, you will usually be asked to do some additional reflecting on what you have done and what you have learned in the process.\n",
        "This is called the **post mortem**.\n",
        "This will usually involve two separate tasks, each one of which is worth 1 point.\n",
        "You will learn more about all of that when the document for the assisted run is shared with you.\n",
        "\n",
        "The general idea is to foster a culture of **productive failure**.\n",
        "First you try and push yourself as far as you can get yourself (trial run, 1 point), then you get help to finish the task (assisted run, 1 point), and then you contrast the experience of the trial run against the assisted run in order to gain a deeper understanding of the subject (post mortem, ~2 points).\n",
        "\n",
        "Alright, that's enough of a preface, let's get cracking!"
      ],
      "metadata": {
        "id": "57CR6qDz7T-0"
      }
    },
    {
      "cell_type": "markdown",
      "source": [
        "## First steps\n",
        "\n",
        "1. Make sure that at the top of you can see the Colab menu bar at the top, with entries like `File`, `Edit`, `View`, and so on. If you don't see it, there should be a v-like arrow in the top right corner. Click it to reveal the menu.\n",
        "\n",
        "1. Click on `File`, then `Save a copy in Drive`. This will open a new tab with a copy of this notebook. You can modify and edit this copy any way you like. Make sure to make all your changes in the copy, and don't forget to `Save`."
      ],
      "metadata": {
        "id": "ImImfCkv_mAw"
      }
    },
    {
      "cell_type": "markdown",
      "source": [
        "## Your task: Phonetic transcription of the Switchboard corpus\n",
        "\n",
        "The switchboard corpus collects recordings of phone conversations.\n",
        "It consists of sounds files (omitted in NLTK) and their transcriptions into English.\n",
        "Curiously absent is a phonetic transcription, which would tell us how each word is pronounced.\n",
        "This could be useful for training text-to-speech and/or voice recognition systems, which is in fact what the Switchboard corpus was created for.\n",
        "Producing phonetic transcriptions would be a very laborious task, but we will try to produce a simple approximation.\n",
        "\n",
        "If you know what to do, this assignment can be solved in less than five minutes with just a few lines of code.\n",
        "But odds are that you don't know what to do and will have to spend some time to even figure out what the relevant building blocks are, let alone how they fit together."
      ],
      "metadata": {
        "id": "2AJZ2vKxA_6Q"
      }
    },
    {
      "cell_type": "markdown",
      "source": [
        "## Step 1: Setup\n",
        "\n",
        "First, you have to install a few corpora.\n",
        "We will be using the [switchboard corpus](https://www.nltk.org/api/nltk.corpus.reader.switchboard.html) and the [Carnegie Mellon Pronouncing Dictionary](https://www.nltk.org/api/nltk.corpus.reader.cmudict.html).\n",
        "Click the links above to see their documentations in NLTK (you'll probably want to check those at various points throughout the assignment).\n",
        "Then run the necessary code to [install those two corpora](https://www.nltk.org/data.html)."
      ],
      "metadata": {
        "id": "cVy4rPmgB-us"
      }
    },
    {
      "cell_type": "code",
      "source": [
        "# I've already added the command for installing the Carnegie Mellon Pronouncing Dictionary\n",
        "import nltk\n",
        "nltk.download(\"cmudict\")\n",
        "# add the code to download the Switchboard corpus"
      ],
      "metadata": {
        "id": "EeLAqmiaB96U"
      },
      "execution_count": null,
      "outputs": []
    },
    {
      "cell_type": "markdown",
      "source": [],
      "metadata": {
        "id": "tNnUROr3t_FF"
      }
    },
    {
      "cell_type": "markdown",
      "source": [
        "And of course you also have to load them."
      ],
      "metadata": {
        "id": "tEtRv4jQDgBL"
      }
    },
    {
      "cell_type": "code",
      "source": [
        "# if you don't know how load an nltk corpus, check the handout from the corpora lecture"
      ],
      "metadata": {
        "id": "fWnIMpNHAzmT"
      },
      "execution_count": null,
      "outputs": []
    },
    {
      "cell_type": "markdown",
      "source": [
        "## Step 2: Playing around\n",
        "\n",
        "Read the documentation of those corpora and play around with them to see what kind of output you get from the methods mentioned in the documentation.\n",
        "\n",
        "Here's a few things you might want to figure out:\n",
        "\n",
        "- What is the difference between `.discourses()`, `.turns()`, and `.tagged_turns()` for `switchboard`?\n",
        "- How do you pick out the 2nd discourse in `switchboard`?\n",
        "- How do you pick out the first word of the first turn of the 2nd discourse in `switchboard`?\n",
        "- What is the difference between `.dict()`, `.entries()` and `.words()` for `cmudict`?\n",
        "- How do you get the pronunciation of *resume*? Why are there multiple pronunciations?\n",
        "- What is the pronuncation of *the* compared to *THE*? What can you infer from that?\n",
        "- What is the role of `0`, `1`, and `2` in the pronunciations?\n"
      ],
      "metadata": {
        "id": "Nk4WSqi5EJe9"
      }
    },
    {
      "cell_type": "code",
      "execution_count": null,
      "metadata": {
        "id": "pCSfxnXu7Kjx"
      },
      "outputs": [],
      "source": [
        "# this is a scratch pad for playing around with the corpora;\n",
        "# you can put anything here you want"
      ]
    },
    {
      "cell_type": "markdown",
      "source": [
        "## Step 3: Your task (for real, this time)\n",
        "\n",
        "Write a function that takes a sentence from the switchboard corpus and returns its pronunciation as a list of pronunciation tokens, with punctuation omitted. When there are multiple pronuncations, adopt the following principle:\n",
        "\n",
        "1.  For *a*, the choice is determined by the next word:\n",
        "    - `AH0` if the pronunciation of the next word starts with a consonant,\n",
        "    - `EY1` if the pronunciatoin of the next word starts with a vowel.\n",
        "1. For *the*, the choice is determined by the next word:\n",
        "  - `DHAH0` if the pronunciation of the next word starts with a consonant,\n",
        "  - `DHIY0` if the pronunciation of the next word starts with a vowel.\n",
        "1. For all other words, pick the first pronunciation.\n",
        "\n",
        "For example, the very first sentence of the switchboard corpus should have the output\n",
        "\n",
        "```\n",
        "['AH1', 'DUW1', 'YUW1', 'HHAE1V', 'AH0', 'PEH1T', 'RAE1NDIY0']\n",
        "```\n",
        "\n",
        "Also, think about how you want to handle cases where a word does not have a pronunciation."
      ],
      "metadata": {
        "id": "5ChOFlncEuvT"
      }
    },
    {
      "cell_type": "code",
      "source": [
        "def text2pronunciation(sentence):\n",
        "    # fill in the missing code\n",
        "    return pronunciation"
      ],
      "metadata": {
        "id": "b9srcYy9LktQ"
      },
      "execution_count": null,
      "outputs": []
    },
    {
      "cell_type": "markdown",
      "source": [
        "Now write another function that takes an integer `i` and feeds each sentence of the switchboard corpus into `text2pronunciation`, starting with the first one.\n",
        "Each output is added to a list until `i` turns have been processed, at which point the list is returned."
      ],
      "metadata": {
        "id": "xb-8FTWYXlme"
      }
    },
    {
      "cell_type": "code",
      "source": [
        "def batch_process(i):\n",
        "    # fill in the missing code\n",
        "    return list_of_pronunciations"
      ],
      "metadata": {
        "id": "8s0KHaMqXkgW"
      },
      "execution_count": null,
      "outputs": []
    },
    {
      "cell_type": "markdown",
      "source": [
        "## Step 4: Submission\n",
        "\n",
        "We will be using [GitHub](https://github.com/) for submitting assignments.\n",
        "We will learn more about this later in the semester, for now just follow the instructions below:\n",
        "\n",
        "1. If you don't have an account yet, go to <https://github.com/> and create one.\n",
        "1. Create a **private** repository (not a public one).\n",
        "   Call it `lin335_firstname_lastname`, replacing `firstname` and `lastname` with your first and last name, respectively.\n",
        "1. Switch back to Google Colab, select `File` and then `Save a copy in GitHub`. Login if asked to do so, and grant Colab access. You will get a dialog where you can choose the repository. Pick the one you created above. Leave everything as is and hit OK.\n",
        "1. Go back to your Github repository. Once you hit refresh, you should see the notebook in the repository. You can click on it to view it on Github. This will be exactly what your notebook will look like to us when we grade it.\n",
        "1. There's one more, crucial step. Since your repository is private, only you can view it. You will have to give us access. In the repository, click on `Settings` in the top bar, then on `Collaborators and teams` in the left sidebar. Click the green button that says `Add people`, then add the usernames that are specified in the Brightspace announcement for this assignment. When asked for the level of access, pick `Write`."
      ],
      "metadata": {
        "id": "QXVoYY8KMP_K"
      }
    },
    {
      "cell_type": "markdown",
      "source": [
        "## Best of luck, and have fun!"
      ],
      "metadata": {
        "id": "1Hp-Xv56Qk_-"
      }
    }
  ]
}